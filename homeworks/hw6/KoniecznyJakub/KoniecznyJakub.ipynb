{
  "cells": [
    {
      "cell_type": "markdown",
      "metadata": {
        "id": "-UI_wneaVhPi"
      },
      "source": [
        "# Praca domowa 6"
      ]
    },
    {
      "cell_type": "markdown",
      "metadata": {
        "id": "8kxRovGeVhPl"
      },
      "source": [
        "## Zadanie 1\n"
      ]
    },
    {
      "cell_type": "code",
      "execution_count": null,
      "metadata": {
        "id": "lCKQ0s2rVhPp"
      },
      "outputs": [],
      "source": [
        "import pandas as pd\n",
        "import numpy as np\n",
        "import matplotlib.pyplot as plt\n",
        "import seaborn as sns\n",
        "\n",
        "df = pd.read_csv(\"https://raw.githubusercontent.com/MI2-Education/2023L-ExploratoryDataAnalysis/main/homeworks/hw6/house_data.csv\")"
      ]
    },
    {
      "cell_type": "markdown",
      "metadata": {
        "id": "txn-quV0VhPs"
      },
      "source": [
        "1. Jaka jest średnia cena nieruchomości położonych nad wodą, których jakoś wykończenia jest równa lub większa od mediany jakości wykończenia?\n"
      ]
    },
    {
      "cell_type": "code",
      "execution_count": null,
      "metadata": {
        "colab": {
          "base_uri": "https://localhost:8080/"
        },
        "id": "PPNZElHCVhPt",
        "outputId": "95aeae1d-071d-4f68-d188-15659952375a"
      },
      "outputs": [
        {
          "output_type": "execute_result",
          "data": {
            "text/plain": [
              "1784151.7006802722"
            ]
          },
          "metadata": {},
          "execution_count": 6
        }
      ],
      "source": [
        "mediana_jakosci = df['grade'].median()\n",
        "domy = df[(df['waterfront'] == 1) & (df['grade'] >= mediana_jakosci)]\n",
        "\n",
        "srednia_cena = domy['price'].mean()\n",
        "srednia_cena\n"
      ]
    },
    {
      "cell_type": "markdown",
      "metadata": {
        "id": "xGnlDRZLVhPv"
      },
      "source": [
        "Odp: 1784151.7 dolarów ($)"
      ]
    },
    {
      "cell_type": "markdown",
      "metadata": {
        "id": "If_HfaWMVhPw"
      },
      "source": [
        "2. Czy nieruchomości o 2 piętrach mają większą (w oparciu o wartości mediany) liczbę łazienek niż nieruchomości o 3 piętrach?\n"
      ]
    },
    {
      "cell_type": "code",
      "execution_count": null,
      "metadata": {
        "colab": {
          "base_uri": "https://localhost:8080/"
        },
        "id": "TApRexGoVhPw",
        "outputId": "82ce7539-626f-4d35-9973-a5ba4963cebc"
      },
      "outputs": [
        {
          "output_type": "execute_result",
          "data": {
            "text/plain": [
              "False"
            ]
          },
          "metadata": {},
          "execution_count": 9
        }
      ],
      "source": [
        "dwa_pietra = df[df['floors'] == 2]\n",
        "trzy_pietra = df[df['floors'] == 3]\n",
        "\n",
        "mediana_liczby_lazienek_dwa_pietra = dwa_pietra['bathrooms'].median()\n",
        "mediana_liczby_lazienek_trzy_pietra = trzy_pietra['bathrooms'].median()\n",
        "\n",
        "mediana_liczby_lazienek_dwa_pietra > mediana_liczby_lazienek_trzy_pietra"
      ]
    },
    {
      "cell_type": "markdown",
      "metadata": {
        "id": "4fEWRQw7VhPx"
      },
      "source": [
        "Odp: NIE"
      ]
    },
    {
      "cell_type": "markdown",
      "metadata": {
        "id": "BHWP39PgVhP5"
      },
      "source": [
        "3. Jak wygląda wartość kwartyla 0.25 oraz 0.75 jakości wykończenia nieruchomości położonych na północy biorąc pod uwagę czy ma ona widok na wodę czy nie ma?"
      ]
    },
    {
      "cell_type": "code",
      "execution_count": null,
      "metadata": {
        "id": "NDtdbuavVhP7",
        "colab": {
          "base_uri": "https://localhost:8080/"
        },
        "outputId": "0e036226-bde6-4d02-f429-fcc5d9c057ae"
      },
      "outputs": [
        {
          "output_type": "stream",
          "name": "stdout",
          "text": [
            "8.0\n",
            "7.0\n",
            "10.0\n",
            "8.0\n"
          ]
        }
      ],
      "source": [
        "punkt_srodkowy = (df['lat'].max() + df['lat'].min())/2\n",
        "nieruchomosci_na_polnocy = df[df['lat'] > punkt_srodkowy]\n",
        "\n",
        "nieruchomosci_na_polnocy_z_widokiem = nieruchomosci_na_polnocy[nieruchomosci_na_polnocy['waterfront'] == 1]\n",
        "nieruchomosci_na_polnocy_bez_widoku = nieruchomosci_na_polnocy[nieruchomosci_na_polnocy['waterfront'] == 0]\n",
        "\n",
        "# Kwartyl 0.25:\n",
        "\n",
        "# Z widokiem na wode: \n",
        "print(np.percentile(nieruchomosci_na_polnocy_z_widokiem['grade'], 25))\n",
        "\n",
        "# Bez widoku na wode:\n",
        "print(np.percentile(nieruchomosci_na_polnocy_bez_widoku['grade'], 25))\n",
        "\n",
        "# Kwartyl 0.75:\n",
        "\n",
        "# Z widokiem na wode: \n",
        "print(np.percentile(nieruchomosci_na_polnocy_z_widokiem['grade'], 75))\n",
        "\n",
        "# Bez widoku na wode:\n",
        "print(np.percentile(nieruchomosci_na_polnocy_bez_widoku['grade'], 75))\n"
      ]
    },
    {
      "cell_type": "markdown",
      "metadata": {
        "id": "Hrq2tmlwVhP9"
      },
      "source": [
        "Odp: \n",
        "#Kwartyl 0.25:\n",
        "\n",
        "Z widokiem na wode: 8.0\n",
        "\n",
        "Bez widoku na wode: 7.0\n",
        "\n",
        "#Kwartyl 0.75:\n",
        "\n",
        "Z widokiem na wode: 10.0\n",
        "\n",
        "Bez widoku na wode: 8.0\n"
      ]
    },
    {
      "cell_type": "markdown",
      "metadata": {
        "id": "-bglQwpYVhP9"
      },
      "source": [
        "4. Pod którym kodem pocztowy jest położonych najwięcej nieruchomości i jaki jest rozstęp miedzykwartylowy dla ceny nieruchomości położonych pod tym adresem?"
      ]
    },
    {
      "cell_type": "code",
      "execution_count": null,
      "metadata": {
        "colab": {
          "base_uri": "https://localhost:8080/"
        },
        "id": "tfYxT75XVhP-",
        "outputId": "fa11a554-5f41-4e14-9fcf-f50b8951e961"
      },
      "outputs": [
        {
          "output_type": "execute_result",
          "data": {
            "text/plain": [
              "262875.0"
            ]
          },
          "metadata": {},
          "execution_count": 11
        }
      ],
      "source": [
        "zliczone_po_kodzie = df['zipcode'].value_counts()\n",
        "najwiecej_nieruchomosci = zliczone_po_kodzie.idxmax()\n",
        "domy_tam_gdzie_najwiecej = df[df['zipcode'] == najwiecej_nieruchomosci]\n",
        "iqr = np.percentile(domy_tam_gdzie_najwiecej['price'], 75) - np.percentile(domy_tam_gdzie_najwiecej['price'], 25)\n",
        "iqr"
      ]
    },
    {
      "cell_type": "markdown",
      "metadata": {
        "id": "_k9Q3cEVVhP-"
      },
      "source": [
        "Odp: Najwięcej pod kodem 98103.\n",
        "IQR: 262875"
      ]
    },
    {
      "cell_type": "markdown",
      "metadata": {
        "id": "qF0z_-6UVhP_"
      },
      "source": [
        "\n",
        "\n",
        "```\n",
        "# Sformatowano jako kod\n",
        "```\n",
        "\n",
        "5. Ile procent nieruchomości ma wyższą średnią powierzchnię 15 najbliższych sąsiadów względem swojej powierzchni?"
      ]
    },
    {
      "cell_type": "code",
      "execution_count": null,
      "metadata": {
        "colab": {
          "base_uri": "https://localhost:8080/"
        },
        "id": "AoCksKwBVhQA",
        "outputId": "e8578235-21b2-4679-e8bb-454f4f4a2950"
      },
      "outputs": [
        {
          "output_type": "execute_result",
          "data": {
            "text/plain": [
              "39.513255910794435"
            ]
          },
          "metadata": {},
          "execution_count": 34
        }
      ],
      "source": [
        "nieruchomosci_z_wiekszym_sasiadem = df[df['sqft_lot15'] > df['sqft_lot']]\n",
        "liczba_wierszy_wiekszy = nieruchomosci_z_wiekszym_sasiadem.shape[0]\n",
        "liczba_wierszy_ogolem = df.shape[0]\n",
        "\n",
        "procent = 100*(liczba_wierszy_wiekszy/liczba_wierszy_ogolem)\n",
        "procent"
      ]
    },
    {
      "cell_type": "markdown",
      "metadata": {
        "id": "BSlGP614VhQE"
      },
      "source": [
        "Odp: Około 39,5%"
      ]
    },
    {
      "cell_type": "markdown",
      "metadata": {
        "id": "2HAOK5AXVhQF"
      },
      "source": [
        " 6. O ile procent więcej jest nieruchomości leżcych na północy zachód niż  nieruchomości leżących na południowy wschód?"
      ]
    },
    {
      "cell_type": "code",
      "execution_count": null,
      "metadata": {
        "id": "uP4l1TlEVhQG",
        "colab": {
          "base_uri": "https://localhost:8080/"
        },
        "outputId": "393b3900-db1d-4df1-bdb6-c2f9b86064be"
      },
      "outputs": [
        {
          "output_type": "execute_result",
          "data": {
            "text/plain": [
              "18343.529411764706"
            ]
          },
          "metadata": {},
          "execution_count": 14
        }
      ],
      "source": [
        "punkt_srodkowy_lat = (df['lat'].max() + df['lat'].min())/2\n",
        "punkt_srodkowy_long = (df['long'].max() + df['long'].min())/2\n",
        "\n",
        "nieruchomosci_na_polnocny_zachod = df[(df['lat'] > punkt_srodkowy_lat) & (df['long'] < punkt_srodkowy_long)]\n",
        "nieruchomosci_na_poludniowy_wschod = df[(df['lat'] < punkt_srodkowy_lat) & (df['long'] > punkt_srodkowy_long)]\n",
        "\n",
        "liczba_nieruchomosci_na_polnocny_zachod = nieruchomosci_na_polnocny_zachod.shape[0]\n",
        "liczba_nieruchomosci_na_poludniowy_wschod = nieruchomosci_na_poludniowy_wschod.shape[0]\n",
        "\n",
        "procent = 100*(liczba_nieruchomosci_na_polnocny_zachod - liczba_nieruchomosci_na_poludniowy_wschod)/(liczba_nieruchomosci_na_poludniowy_wschod)\n",
        "procent"
      ]
    },
    {
      "cell_type": "markdown",
      "source": [],
      "metadata": {
        "id": "jb6eiYTDD9k1"
      }
    },
    {
      "cell_type": "markdown",
      "metadata": {
        "id": "Vu_qcYmJVhQH"
      },
      "source": [
        "Odp: O około 18343,5%"
      ]
    },
    {
      "cell_type": "markdown",
      "metadata": {
        "id": "pQvUYlfrVhQI"
      },
      "source": [
        "# Zadanie 2"
      ]
    },
    {
      "cell_type": "markdown",
      "metadata": {
        "id": "U0angmVJVhQK"
      },
      "source": [
        "Dla wybranej zmiennej ze zbioru danych z Zadania 1 narysuj:\n",
        "\n",
        "a) rozkład zmiennej jakościowej\n",
        "\n",
        "b) rozkład zmiennej ilościowej\n",
        "\n",
        "c) rozkład dwóch zmiennych (dowolna kombinacja jakościowej i ilościowej)"
      ]
    },
    {
      "cell_type": "markdown",
      "metadata": {
        "id": "UKCFx-WfVhQK"
      },
      "source": [
        "a)"
      ]
    },
    {
      "cell_type": "code",
      "execution_count": null,
      "metadata": {
        "vscode": {
          "languageId": "plaintext"
        },
        "colab": {
          "base_uri": "https://localhost:8080/",
          "height": 472
        },
        "id": "0xaQ4HBUVhQL",
        "outputId": "07102d7b-cc72-4219-e4bc-26aa9f9f82c8"
      },
      "outputs": [
        {
          "output_type": "display_data",
          "data": {
            "text/plain": [
              "<Figure size 640x480 with 1 Axes>"
            ],
            "image/png": "[encoded data removed]"
          },
          "metadata": {}
        }
      ],
      "source": [
        "counts = df['waterfront'].value_counts()\n",
        "counts\n",
        "plt.bar(counts.index, counts.values)\n",
        "plt.xlabel('Widok na morze: 0 - NIE, 1 - TAK')\n",
        "plt.ylabel('Liczba mieszkań')\n",
        "plt.title('Liczba mieszkań, a widok na morze')\n",
        "plt.show()"
      ]
    },
    {
      "cell_type": "markdown",
      "metadata": {
        "id": "kD1XEHuHVhQL"
      },
      "source": [
        "b)"
      ]
    },
    {
      "cell_type": "code",
      "execution_count": null,
      "metadata": {
        "vscode": {
          "languageId": "plaintext"
        },
        "colab": {
          "base_uri": "https://localhost:8080/",
          "height": 433
        },
        "id": "Hydy4CT4VhQM",
        "outputId": "e8643e00-a168-4771-b03d-0a48322f0ba1"
      },
      "outputs": [
        {
          "output_type": "display_data",
          "data": {
            "text/plain": [
              "<Figure size 640x480 with 1 Axes>"
            ],
            "image/png": "[encoded data removed]"
          },
          "metadata": {}
        }
      ],
      "source": [
        "sns.violinplot(data = df, y = 'price')\n",
        "plt.ylabel('Cena nieruchomości w dolarach [$]')\n",
        "plt.title('Rozkład cen nieruchomości')\n",
        "plt.show()"
      ]
    },
    {
      "cell_type": "markdown",
      "metadata": {
        "id": "n51_DseQVhQM"
      },
      "source": [
        "c)"
      ]
    },
    {
      "cell_type": "code",
      "execution_count": null,
      "metadata": {
        "vscode": {
          "languageId": "plaintext"
        },
        "id": "eII_r8N6VhQN"
      },
      "outputs": [],
      "source": []
    }
  ],
  "metadata": {
    "kernelspec": {
      "display_name": "base",
      "language": "python",
      "name": "python3"
    },
    "language_info": {
      "name": "python",
      "version": "3.7.6"
    },
    "orig_nbformat": 4,
    "colab": {
      "provenance": []
    }
  },
  "nbformat": 4,
  "nbformat_minor": 0
}