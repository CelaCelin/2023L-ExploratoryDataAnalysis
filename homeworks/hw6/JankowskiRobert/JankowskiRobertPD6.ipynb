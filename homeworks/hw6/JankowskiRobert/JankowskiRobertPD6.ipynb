{
 "cells": [
  {
   "cell_type": "markdown",
   "metadata": {},
   "source": [
    "# Praca domowa 6"
   ]
  },
  {
   "cell_type": "markdown",
   "metadata": {},
   "source": [
    "## Zadanie 1\n"
   ]
  },
  {
   "cell_type": "code",
   "execution_count": 2,
   "metadata": {},
   "outputs": [],
   "source": [
    "import pandas as pd\n",
    "import numpy as np\n",
    "import matplotlib.pyplot as plt\n",
    "\n",
    "df = pd.read_csv(\"house_data.csv\")"
   ]
  },
  {
   "cell_type": "markdown",
   "metadata": {},
   "source": [
    "1. Jaka jest średnia cena nieruchomości położonych nad wodą, których jakoś wykończenia jest równa lub większa od mediany jakości wykończenia?\n"
   ]
  },
  {
   "cell_type": "code",
   "execution_count": 13,
   "metadata": {},
   "outputs": [
    {
     "data": {
      "text/plain": [
       "1784151.7"
      ]
     },
     "execution_count": 13,
     "metadata": {},
     "output_type": "execute_result"
    }
   ],
   "source": [
    "df1 = df[df[\"waterfront\"] == 1].loc[df.grade >= df.grade.median()][\"price\"].mean()\n",
    "df1.round(2)"
   ]
  },
  {
   "cell_type": "markdown",
   "metadata": {},
   "source": [
    "Odp:1784151.70"
   ]
  },
  {
   "cell_type": "markdown",
   "metadata": {},
   "source": [
    "2. Czy nieruchomości o 2 piętrach mają większą (w oparciu o wartości mediany) liczbę łazienek niż nieruchomości o 3 piętrach?\n"
   ]
  },
  {
   "cell_type": "code",
   "execution_count": 21,
   "metadata": {},
   "outputs": [
    {
     "data": {
      "text/plain": [
       "False"
      ]
     },
     "execution_count": 21,
     "metadata": {},
     "output_type": "execute_result"
    }
   ],
   "source": [
    "df[df[\"floors\"] == 2].bathrooms.median() > df[df[\"floors\"] == 3].bathrooms.median() "
   ]
  },
  {
   "cell_type": "markdown",
   "metadata": {},
   "source": [
    "Odp: Nie"
   ]
  },
  {
   "cell_type": "markdown",
   "metadata": {},
   "source": [
    "3. Jak wygląda wartość kwartyla 0.25 oraz 0.75 jakości wykończenia nieruchomości położonych na północy biorąc pod uwagę czy ma ona widok na wodę czy nie ma?"
   ]
  },
  {
   "cell_type": "code",
   "execution_count": 29,
   "metadata": {},
   "outputs": [
    {
     "data": {
      "text/plain": [
       "waterfront      \n",
       "0           0.25     7.0\n",
       "            0.75     8.0\n",
       "1           0.25     8.0\n",
       "            0.75    10.0\n",
       "Name: grade, dtype: float64"
      ]
     },
     "execution_count": 29,
     "metadata": {},
     "output_type": "execute_result"
    }
   ],
   "source": [
    "df[df.lat > df.lat.min() + (df.lat.max() - df.lat.min())/2].groupby(\"waterfront\").grade.quantile([0.25, 0.75])"
   ]
  },
  {
   "cell_type": "markdown",
   "metadata": {},
   "source": [
    "Odp:Nie ma widoku na wodę: wartość kwartyla 0.25 = 7.0, kwartyla 0.75 = 8.0\n",
    "Ma widok na wodę: wartość kwartyla 0.25 = 8.0, kwartyla 0.75 = 10.0"
   ]
  },
  {
   "cell_type": "markdown",
   "metadata": {},
   "source": [
    "4. Pod którym kodem pocztowy jest położonych najwięcej nieruchomości i jaki jest rozstęp miedzykwartylowy dla ceny nieruchomości położonych pod tym adresem?"
   ]
  },
  {
   "cell_type": "code",
   "execution_count": 173,
   "metadata": {},
   "outputs": [
    {
     "name": "stdout",
     "output_type": "stream",
     "text": [
      "98103\n",
      "262875.0\n"
     ]
    }
   ],
   "source": [
    "zip = df.groupby(\"zipcode\").size().sort_values(ascending=False).head(1).reset_index()\n",
    "zip = zip.zipcode[0]\n",
    "\n",
    "IQR = df.loc[df.zipcode == zip].price.quantile(0.75) - df.loc[df.zipcode == zip].price.quantile(0.25)\n",
    "\n",
    "print(zip)\n",
    "print(IQR)"
   ]
  },
  {
   "cell_type": "markdown",
   "metadata": {},
   "source": [
    "Odp:Pod kodem pocztowym 98103 jest położonych najwięcej nieruchomosci i rozstęp międzykwartylowy dla ceny nieruchomości położonych pod tym adresem wynosi 262875."
   ]
  },
  {
   "cell_type": "markdown",
   "metadata": {},
   "source": [
    "5. Ile procent nieruchomości ma wyższą średnią powierzchnię 15 najbliższych sąsiadów względem swojej powierzchni?"
   ]
  },
  {
   "cell_type": "code",
   "execution_count": 197,
   "metadata": {},
   "outputs": [
    {
     "data": {
      "text/plain": [
       "39.51"
      ]
     },
     "execution_count": 197,
     "metadata": {},
     "output_type": "execute_result"
    }
   ],
   "source": [
    "100*(df[\"sqft_lot\"][df[\"sqft_lot\"] < df[\"sqft_lot15\"]].count()\\\n",
    "/df[\"sqft_lot\"].count()).round(4)"
   ]
  },
  {
   "cell_type": "markdown",
   "metadata": {},
   "source": [
    "Odp:Ok 39.51 %"
   ]
  },
  {
   "cell_type": "markdown",
   "metadata": {},
   "source": [
    " 6. O ile procent więcej jest nieruchomości leżcych na północy zachód niż  nieruchomości leżących na południowy wschód?"
   ]
  },
  {
   "cell_type": "code",
   "execution_count": 217,
   "metadata": {},
   "outputs": [
    {
     "data": {
      "text/plain": [
       "18343.529411764706"
      ]
     },
     "execution_count": 217,
     "metadata": {},
     "output_type": "execute_result"
    }
   ],
   "source": [
    "srodekNS = df.lat.min() + (df.lat.max()-df.lat.min())/2\n",
    "srodekWE = df.long.min() + (df.long.max()-df.long.min())/2\n",
    "northwest_count = df[(df.lat > srodekNS) & (df.long < srodekWE)].id.count()\n",
    "southeast_count = df[(df.lat < srodekNS) & (df.long > srodekWE)].id.count()\n",
    "\n",
    "100 * (northwest_count - southeast_count) / southeast_count"
   ]
  },
  {
   "cell_type": "markdown",
   "metadata": {},
   "source": [
    "Odp: O około 18343.53 %"
   ]
  },
  {
   "cell_type": "markdown",
   "metadata": {},
   "source": [
    "# Zadanie 2"
   ]
  },
  {
   "cell_type": "markdown",
   "metadata": {},
   "source": [
    "Dla wybranej zmiennej ze zbioru danych z Zadania 1 narysuj:\n",
    "\n",
    "a) rozkład zmiennej jakościowej\n",
    "\n",
    "b) rozkład zmiennej ilościowej\n",
    "\n",
    "c) rozkład dwóch zmiennych (dowolna kombinacja jakościowej i ilościowej)"
   ]
  },
  {
   "cell_type": "markdown",
   "metadata": {},
   "source": [
    "a)"
   ]
  },
  {
   "cell_type": "code",
   "execution_count": 250,
   "metadata": {
    "vscode": {
     "languageId": "plaintext"
    }
   },
   "outputs": [
    {
     "data": {
      "image/png": "[encoded data removed]",
      "text/plain": [
       "<Figure size 432x288 with 1 Axes>"
      ]
     },
     "metadata": {
      "needs_background": "light"
     },
     "output_type": "display_data"
    }
   ],
   "source": [
    "import matplotlib.pyplot as plt\n",
    "import seaborn as sns\n",
    "\n",
    "#df.groupby(\"yr_built\").id.count()\n",
    "\n",
    "plt.hist(df.yr_built,bins = 116)\n",
    "plt.title(\"Liczba nieruchomości wybudowanych w danym roku\")\n",
    "plt.xlabel(\"Rok budowy\")\n",
    "plt.ylabel(\"Liczba nieruchomości\")\n",
    "plt.show()\n"
   ]
  },
  {
   "cell_type": "markdown",
   "metadata": {},
   "source": [
    "b)"
   ]
  },
  {
   "cell_type": "code",
   "execution_count": 261,
   "metadata": {
    "vscode": {
     "languageId": "plaintext"
    }
   },
   "outputs": [
    {
     "data": {
      "image/png": "[encoded data removed]",
      "text/plain": [
       "<Figure size 432x288 with 1 Axes>"
      ]
     },
     "metadata": {
      "needs_background": "light"
     },
     "output_type": "display_data"
    }
   ],
   "source": [
    "sns.boxplot(data = df, x = \"sqft_basement\",color='tab:orange')\n",
    "plt.title(\"Rozkład powierzchni mieszkaniowej poniżej poziomu gruntu\")\n",
    "plt.xlabel(\"Powierzchnia mieszkaniowa poniżej poziomu gruntu w stopach kwadratowych\")\n",
    "plt.show()"
   ]
  },
  {
   "cell_type": "markdown",
   "metadata": {},
   "source": [
    "c)"
   ]
  },
  {
   "cell_type": "code",
   "execution_count": 259,
   "metadata": {
    "vscode": {
     "languageId": "plaintext"
    }
   },
   "outputs": [
    {
     "data": {
      "image/png": "[encoded data removed]",
      "text/plain": [
       "<Figure size 432x288 with 1 Axes>"
      ]
     },
     "metadata": {
      "needs_background": "light"
     },
     "output_type": "display_data"
    }
   ],
   "source": [
    "sns.violinplot(df, x='condition', y='price', color='tab:green')\n",
    "plt.title(\"Stan mieszkania a jego cena\")\n",
    "plt.xlabel(\"Stan mieszkania\")\n",
    "plt.ylabel(\"Cena w USD\")\n",
    "plt.show()\n",
    "     "
   ]
  }
 ],
 "metadata": {
  "kernelspec": {
   "display_name": "Python 3 (ipykernel)",
   "language": "python",
   "name": "python3"
  },
  "language_info": {
   "codemirror_mode": {
    "name": "ipython",
    "version": 3
   },
   "file_extension": ".py",
   "mimetype": "text/x-python",
   "name": "python",
   "nbconvert_exporter": "python",
   "pygments_lexer": "ipython3",
   "version": "3.9.1"
  }
 },
 "nbformat": 4,
 "nbformat_minor": 2
}
