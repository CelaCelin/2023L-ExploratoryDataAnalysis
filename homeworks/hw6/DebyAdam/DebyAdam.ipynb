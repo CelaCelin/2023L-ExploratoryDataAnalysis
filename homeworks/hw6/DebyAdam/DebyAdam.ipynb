{
  "cells": [
    {
      "cell_type": "markdown",
      "metadata": {
        "id": "FuGJsfFbCOuU"
      },
      "source": [
        "# Praca domowa 6"
      ]
    },
    {
      "cell_type": "markdown",
      "metadata": {
        "id": "NpQlOH3MCOuV"
      },
      "source": [
        "## Zadanie 1\n"
      ]
    },
    {
      "cell_type": "code",
      "execution_count": 25,
      "metadata": {
        "id": "fjSpaJNuCOuW"
      },
      "outputs": [],
      "source": [
        "import pandas as pd\n",
        "import numpy as np\n",
        "import matplotlib.pyplot as plt\n",
        "import seaborn as sns\n",
        "\n",
        "df = pd.read_csv(\"https://raw.githubusercontent.com/MI2-Education/2023L-ExploratoryDataAnalysis/main/homeworks/hw6/house_data.csv\")"
      ]
    },
    {
      "cell_type": "markdown",
      "metadata": {
        "id": "Of5MhTfaCOuX"
      },
      "source": [
        "1. Jaka jest średnia cena nieruchomości położonych nad wodą, których jakoś wykończenia jest równa lub większa od mediany jakości wykończenia?\n"
      ]
    },
    {
      "cell_type": "code",
      "execution_count": 3,
      "metadata": {
        "colab": {
          "base_uri": "https://localhost:8080/"
        },
        "id": "bueAjGLsCOuX",
        "outputId": "60bcee56-bf2f-49be-bf21-4bd9d15059c1"
      },
      "outputs": [
        {
          "output_type": "stream",
          "name": "stdout",
          "text": [
            "Średnia cena nieruchomości położonych nad wodą, których jakość wykończenia jest równa lub większa od mediany jakości wykończenia:\n",
            "2302236.3095238097\n"
          ]
        }
      ],
      "source": [
        "# Wybór nieruchomości nad wodą\n",
        "NadWoda = df[(df['waterfront'] == 1)]\n",
        "\n",
        "# Liczenie mediany jakosci wykonczenia\n",
        "mediana = NadWoda['grade'].median()\n",
        "\n",
        "# Wybor mieszkan, o rownej lub wiekszej medianie\n",
        "wybrane = NadWoda[(NadWoda['grade'] >= mediana)]\n",
        "\n",
        "# Obliczanie sredniej\n",
        "srednia = wybrane['price'].mean()\n",
        "\n",
        "print(\"Średnia cena nieruchomości położonych nad wodą, których jakość wykończenia jest równa lub większa od mediany jakości wykończenia:\")\n",
        "print(srednia)"
      ]
    },
    {
      "cell_type": "markdown",
      "metadata": {
        "id": "cLeP8xJoCOuY"
      },
      "source": [
        "Odp:"
      ]
    },
    {
      "cell_type": "markdown",
      "metadata": {
        "id": "ufuc61ToCOuY"
      },
      "source": [
        "2. Czy nieruchomości o 2 piętrach mają większą (w oparciu o wartości mediany) liczbę łazienek niż nieruchomości o 3 piętrach?\n"
      ]
    },
    {
      "cell_type": "code",
      "execution_count": 4,
      "metadata": {
        "colab": {
          "base_uri": "https://localhost:8080/"
        },
        "id": "6OFLCVrWCOuY",
        "outputId": "c6432a91-8cf8-4b3e-a80b-60cfaaf5c4ac"
      },
      "outputs": [
        {
          "output_type": "stream",
          "name": "stdout",
          "text": [
            "Czy nieruchomości o 2 piętrach mają większą (w oparciu o wartości mediany) liczbę łazienek niż nieruchomości o 3 piętrach?\n",
            "True\n"
          ]
        }
      ],
      "source": [
        "# Wybieramy mieszkania o 2 pietrach\n",
        "dwaP = df[df['floors']==2]\n",
        "\n",
        "# Liczymy mediane łazienek wśród nich\n",
        "LazienkiDwa = dwaP['bathrooms'].mean()\n",
        "\n",
        "# Wybieramy mieszkania o 3 pietrach\n",
        "trzyP = df[df['floors']==3]\n",
        "\n",
        "# Liczymy mediane łazienek wśród nich\n",
        "LazienkiTrzy = trzyP['bathrooms'].mean()\n",
        "\n",
        "print('Czy nieruchomości o 2 piętrach mają większą (w oparciu o wartości mediany) liczbę łazienek niż nieruchomości o 3 piętrach?')\n",
        "print(LazienkiDwa > LazienkiTrzy)"
      ]
    },
    {
      "cell_type": "markdown",
      "metadata": {
        "id": "tgQIjdyeCOuY"
      },
      "source": [
        "Odp:"
      ]
    },
    {
      "cell_type": "markdown",
      "metadata": {
        "id": "6wTbGPw2COuY"
      },
      "source": [
        "3. Jak wygląda wartość kwartyla 0.25 oraz 0.75 jakości wykończenia nieruchomości położonych na północy biorąc pod uwagę czy ma ona widok na wodę czy nie ma?"
      ]
    },
    {
      "cell_type": "code",
      "execution_count": 5,
      "metadata": {
        "id": "q1Dq7alvCOuZ",
        "colab": {
          "base_uri": "https://localhost:8080/"
        },
        "outputId": "d76038f8-efa0-4049-b4d9-bbd625f53188"
      },
      "outputs": [
        {
          "output_type": "stream",
          "name": "stdout",
          "text": [
            "Wartość kwartyla 0.25 dla jakości wykończenia (nieruchomości z widokiem na wodę): 8.0\n",
            "Wartość kwartyla 0.75 dla jakości wykończenia (nieruchomości z widokiem na wodę): 10.0\n",
            "Wartość kwartyla 0.25 dla jakości wykończenia (nieruchomości bez widoku na wodę): 7.0\n",
            "Wartość kwartyla 0.75 dla jakości wykończenia (nieruchomości bez widoku na wodę): 8.0\n"
          ]
        }
      ],
      "source": [
        "# Zbadam na początku w jakich przedziałach znajduje się szerokość geograficzna nieruchomości\n",
        "min_sz = df['lat'].min()\n",
        "max_sz = df['lat'].max()\n",
        "\n",
        "# Zbadam na początku w jakich przedziałach znajduje się długość geograficzna nieruchomości\n",
        "min_dl = df['long'].min()\n",
        "max_dl = df['long'].max()\n",
        "\n",
        "# Po przeanalizowaniu danych i użyciu map, nieruchomości znajdują się w mieście Seattle\n",
        "\n",
        "# Zakładam, że północ zaczyna się od szerokości geograficznej równej środkowi przedziału\n",
        "polnoc = df[df['lat'] > (max_sz + min_sz)/2]\n",
        "\n",
        "# Dzielę wybrane nieruchomości na grupy: te z widokiem na wode i te bez\n",
        "woda = polnoc[polnoc['waterfront'] == 1]\n",
        "nie_woda = polnoc[polnoc['waterfront'] == 0]\n",
        "\n",
        "# Obliczam kwartyle 0.25 i 0.75 dla poszczególnych grup\n",
        "kwartyle_woda = woda['grade'].quantile([0.25, 0.75])\n",
        "kwartyle_nie_woda = nie_woda['grade'].quantile([0.25, 0.75])\n",
        "\n",
        "print(\"Wartość kwartyla 0.25 dla jakości wykończenia (nieruchomości z widokiem na wodę):\", kwartyle_woda[0.25])\n",
        "print(\"Wartość kwartyla 0.75 dla jakości wykończenia (nieruchomości z widokiem na wodę):\", kwartyle_woda[0.75])\n",
        "print(\"Wartość kwartyla 0.25 dla jakości wykończenia (nieruchomości bez widoku na wodę):\", kwartyle_nie_woda[0.25])\n",
        "print(\"Wartość kwartyla 0.75 dla jakości wykończenia (nieruchomości bez widoku na wodę):\", kwartyle_nie_woda[0.75])"
      ]
    },
    {
      "cell_type": "markdown",
      "metadata": {
        "id": "L1fZDGfjCOuZ"
      },
      "source": [
        "Odp:"
      ]
    },
    {
      "cell_type": "markdown",
      "metadata": {
        "id": "I2RqUfyYCOuZ"
      },
      "source": [
        "4. Pod którym kodem pocztowy jest położonych najwięcej nieruchomości i jaki jest rozstęp miedzykwartylowy dla ceny nieruchomości położonych pod tym adresem?"
      ]
    },
    {
      "cell_type": "code",
      "execution_count": 6,
      "metadata": {
        "id": "_2Fgpf8OCOuZ",
        "colab": {
          "base_uri": "https://localhost:8080/"
        },
        "outputId": "251be85c-690e-4531-9fda-30d26123a554"
      },
      "outputs": [
        {
          "output_type": "stream",
          "name": "stdout",
          "text": [
            "Kod pocztowy z największą liczbą nieruchomości: 98103\n",
            "Rozstęp miedzykwartylowy dla cen nieruchomości o tym kodzie pocztowym: 262875.0\n"
          ]
        }
      ],
      "source": [
        "# Zliczam liczbę nieruchomości położonych pod konkretnym kodem pocztowym\n",
        "kod_pocztowy_zliczanie = df['zipcode'].value_counts()\n",
        "\n",
        "# Wybieram kod pocztowy z największą liczbą nieruchomości\n",
        "popularny_kod_pocztowy = kod_pocztowy_zliczanie.index[0]\n",
        "\n",
        "# Wybieramy tylko te nieruchomości położone pod tym adresem\n",
        "nieruchomosci = df[df['zipcode']==popularny_kod_pocztowy]\n",
        "\n",
        "# Obliczam rozstęp między kwartylowy dla tych danych\n",
        "RMK = nieruchomosci['price'].quantile(0.75) - nieruchomosci['price'].quantile(0.25)\n",
        "\n",
        "print(\"Kod pocztowy z największą liczbą nieruchomości:\", popularny_kod_pocztowy)\n",
        "print(\"Rozstęp miedzykwartylowy dla cen nieruchomości o tym kodzie pocztowym:\", RMK)"
      ]
    },
    {
      "cell_type": "markdown",
      "metadata": {
        "id": "ASCnxkXJCOuZ"
      },
      "source": [
        "Odp:"
      ]
    },
    {
      "cell_type": "markdown",
      "metadata": {
        "id": "ni0Zum3hCOua"
      },
      "source": [
        "5. Ile procent nieruchomości ma wyższą średnią powierzchnię 15 najbliższych sąsiadów względem swojej powierzchni?"
      ]
    },
    {
      "cell_type": "code",
      "execution_count": 7,
      "metadata": {
        "id": "xjk_-LBHCOua",
        "colab": {
          "base_uri": "https://localhost:8080/"
        },
        "outputId": "5411ca74-1d94-46d8-f369-a715b05af3c6"
      },
      "outputs": [
        {
          "output_type": "stream",
          "name": "stdout",
          "text": [
            "Ile procent nieruchomości ma wyższą średnią powierzchnię 15 najbliższych sąsiadów względem swojej powierzchni?\n",
            "42.594734650441865 %\n"
          ]
        }
      ],
      "source": [
        "# Zakładam badanie powierzchni mieszkaniowej\n",
        "\n",
        "# Wybierzmy te mieszkanie, której powierzchnia mieszkalna jest niższa od średniej\n",
        "Mniej = df[df['sqft_living'] < df['sqft_living15']]\n",
        "\n",
        "# Zliczamy te mieszkania\n",
        "Mniej_liczba = Mniej.count()[1]\n",
        "\n",
        "# Zliczam wszystkie\n",
        "Wszystkie_liczba = df.count()[1]\n",
        "\n",
        "# Obliczam procent\n",
        "Procent = (Mniej_liczba / Wszystkie_liczba) * 100\n",
        "\n",
        "print('Ile procent nieruchomości ma wyższą średnią powierzchnię 15 najbliższych sąsiadów względem swojej powierzchni?')\n",
        "print(Procent, '%')"
      ]
    },
    {
      "cell_type": "markdown",
      "metadata": {
        "id": "SPth6WIjCOua"
      },
      "source": [
        "Odp:"
      ]
    },
    {
      "cell_type": "markdown",
      "metadata": {
        "id": "1hkt8PSXCOua"
      },
      "source": [
        " 6. O ile procent więcej jest nieruchomości leżcych na północy zachód niż  nieruchomości leżących na południowy wschód?"
      ]
    },
    {
      "cell_type": "code",
      "execution_count": 8,
      "metadata": {
        "id": "gM4usmr6COua",
        "colab": {
          "base_uri": "https://localhost:8080/"
        },
        "outputId": "9d91f4fe-80cd-4bec-e5cf-a1b1cfe72472"
      },
      "outputs": [
        {
          "output_type": "stream",
          "name": "stdout",
          "text": [
            "O ile procent więcej jest nieruchomości leżcych na północy zachód niż nieruchomości leżących na południowy wschód?\n",
            "18343.529411764706 %\n"
          ]
        }
      ],
      "source": [
        "# Będę korzystał z danych, które otrzymałem w zadaniu 3\n",
        "# Ponownie zakładam, że północ zaczyna się od środka przedziału szerokości geograficznej\n",
        "# Natomiast wschód od środka przedziału długości geograficznej\n",
        "\n",
        "# Wybieram nieruchomości znajdujące się na północnym zachodzie\n",
        "N_W = df[(df['lat'] > (max_sz + min_sz)/2) & (df['long'] < (max_dl + min_dl)/2)]\n",
        "\n",
        "# Wybieram nieruchomości znajdujące się na południowym wschodzie\n",
        "S_E = df[(df['lat'] <= (max_sz + min_sz)/2) & (df['long'] >= (max_dl + min_dl)/2)]\n",
        "\n",
        "# Zliczam obie grupy nieruchomości\n",
        "N_W_n = N_W.count()[1]\n",
        "S_E_n = S_E.count()[1]\n",
        "\n",
        "print('O ile procent więcej jest nieruchomości leżcych na północy zachód niż nieruchomości leżących na południowy wschód?')\n",
        "print(((N_W_n - S_E_n)/S_E_n)*100, '%')"
      ]
    },
    {
      "cell_type": "markdown",
      "metadata": {
        "id": "8_h0-MtjCOua"
      },
      "source": [
        "Odp:"
      ]
    },
    {
      "cell_type": "markdown",
      "metadata": {
        "id": "qmV27dK3COub"
      },
      "source": [
        "# Zadanie 2"
      ]
    },
    {
      "cell_type": "markdown",
      "metadata": {
        "id": "5nFv0cGTCOub"
      },
      "source": [
        "Dla wybranej zmiennej ze zbioru danych z Zadania 1 narysuj:\n",
        "\n",
        "a) rozkład zmiennej jakościowej\n",
        "\n",
        "b) rozkład zmiennej ilościowej\n",
        "\n",
        "c) rozkład dwóch zmiennych (dowolna kombinacja jakościowej i ilościowej)"
      ]
    },
    {
      "cell_type": "markdown",
      "metadata": {
        "id": "mGvUZUwcCOub"
      },
      "source": [
        "a)"
      ]
    },
    {
      "cell_type": "code",
      "execution_count": 9,
      "metadata": {
        "vscode": {
          "languageId": "plaintext"
        },
        "id": "qe0mHZFxCOub",
        "colab": {
          "base_uri": "https://localhost:8080/",
          "height": 472
        },
        "outputId": "ef51b13c-1619-40b7-93ad-1562a9051d49"
      },
      "outputs": [
        {
          "output_type": "display_data",
          "data": {
            "text/plain": [
              "<Figure size 640x480 with 1 Axes>"
            ],
            "image/png": "[encoded data removed]"
          },
          "metadata": {}
        }
      ],
      "source": [
        "# Zbadamy rozkład zmiennej condition \n",
        "\n",
        "# Zliczanie nieruchomości względem ich stanu\n",
        "Stan = df['condition'].value_counts().sort_index()\n",
        "\n",
        "# Tworzenie wykresu słupkowego\n",
        "plt.bar(Stan.index, Stan.values)\n",
        "\n",
        "# Dodawanie etykiet osi\n",
        "plt.xlabel('Stan')\n",
        "plt.ylabel('Liczba obserwacji')\n",
        "\n",
        "# Dodawanie tytułu wykresu\n",
        "plt.title('Rozkład zmiennej \"condition\"')\n",
        "\n",
        "# Wyświetlanie wykresu\n",
        "plt.show()"
      ]
    },
    {
      "cell_type": "markdown",
      "metadata": {
        "id": "kqLSrdr4COub"
      },
      "source": [
        "b)"
      ]
    },
    {
      "cell_type": "code",
      "execution_count": 23,
      "metadata": {
        "vscode": {
          "languageId": "plaintext"
        },
        "id": "In5S0cr0COub",
        "colab": {
          "base_uri": "https://localhost:8080/",
          "height": 472
        },
        "outputId": "5c08a8ae-40ea-496d-b044-d64eaf787f9c"
      },
      "outputs": [
        {
          "output_type": "display_data",
          "data": {
            "text/plain": [
              "<Figure size 640x480 with 1 Axes>"
            ],
            "image/png": "[encoded data removed]"
          },
          "metadata": {}
        }
      ],
      "source": [
        "# Zbadamy rozkład zmiennej price\n",
        "\n",
        "# Tworzenie histogramu\n",
        "plt.hist(df['price'], bins=146, edgecolor='black')\n",
        "\n",
        "# Dodawanie etykiet osi\n",
        "plt.xlabel('Cena')\n",
        "plt.ylabel('Liczba obserwacji')\n",
        "\n",
        "# Dodawanie tytułu wykresu\n",
        "plt.title('Rozkład zmiennej \"price\"')\n",
        "\n",
        "# Zwiększenie czytelności\n",
        "plt.xlim(0, 4e6)\n",
        "\n",
        "# Wyświetlanie wykresu\n",
        "plt.show()"
      ]
    },
    {
      "cell_type": "markdown",
      "metadata": {
        "id": "N_-PYxWlCOub"
      },
      "source": [
        "c)"
      ]
    },
    {
      "cell_type": "code",
      "execution_count": 39,
      "metadata": {
        "vscode": {
          "languageId": "plaintext"
        },
        "id": "j07IgHPaCOuc",
        "colab": {
          "base_uri": "https://localhost:8080/",
          "height": 472
        },
        "outputId": "6e2f2c98-f432-47fd-fbd2-7401a8d7e845"
      },
      "outputs": [
        {
          "output_type": "display_data",
          "data": {
            "text/plain": [
              "<Figure size 640x480 with 1 Axes>"
            ],
            "image/png": "[encoded data removed]"
          },
          "metadata": {}
        }
      ],
      "source": [
        " # Zbadamy rozkład dwóch zmiennych: widok na nieruchomość i ceny\n",
        "\n",
        " # Tworzenie wykresu pudełkowego\n",
        "sns.boxplot(x='view', y='price', data=df, color=\"blue\")\n",
        "\n",
        "# Dodawanie etykiet osi\n",
        "plt.xlabel('Widok')\n",
        "plt.ylabel('Cena')\n",
        "\n",
        "# Dodawanie tytułu wykresu\n",
        "plt.title('Rozkład zmiennych \"price\" i \"view\"')\n",
        "\n",
        "plt.show()"
      ]
    }
  ],
  "metadata": {
    "kernelspec": {
      "display_name": "base",
      "language": "python",
      "name": "python3"
    },
    "language_info": {
      "name": "python",
      "version": "3.7.6"
    },
    "orig_nbformat": 4,
    "colab": {
      "provenance": []
    }
  },
  "nbformat": 4,
  "nbformat_minor": 0
}