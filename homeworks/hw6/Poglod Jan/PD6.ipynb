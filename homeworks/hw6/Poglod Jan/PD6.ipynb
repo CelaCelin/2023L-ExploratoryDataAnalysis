{
 "cells": [
  {
   "cell_type": "markdown",
   "metadata": {},
   "source": [
    "# Praca domowa 6"
   ]
  },
  {
   "cell_type": "markdown",
   "metadata": {},
   "source": [
    "## Zadanie 1\n"
   ]
  },
  {
   "cell_type": "code",
   "execution_count": 1,
   "metadata": {},
   "outputs": [],
   "source": [
    "import pandas as pd\n",
    "import numpy as np\n",
    "import matplotlib.pyplot as plt\n",
    "\n",
    "df = pd.read_csv(\"house_data.csv\")"
   ]
  },
  {
   "cell_type": "markdown",
   "metadata": {},
   "source": [
    "1. Jaka jest średnia cena nieruchomości położonych nad wodą, których jakoś wykończenia jest równa lub większa od mediany jakości wykończenia?\n"
   ]
  },
  {
   "cell_type": "code",
   "execution_count": 11,
   "metadata": {},
   "outputs": [
    {
     "name": "stdout",
     "output_type": "stream",
     "text": [
      "542085.78\n"
     ]
    }
   ],
   "source": [
    "mediana_jakosci = df['condition'].median()\n",
    "domy_nad_woda = df[df['waterfront']==1]\n",
    "\n",
    "wysoka_jakosc = domy_nad_woda[domy_nad_woda['condition']>=mediana_jakosci]\n",
    "srednia_cena = wysoka_jakosc['price'].mean()\n",
    "print(round(srednia_cena,2))"
   ]
  },
  {
   "cell_type": "markdown",
   "metadata": {
    "jupyter": {
     "source_hidden": true
    },
    "tags": []
   },
   "source": [
    "Odp:"
   ]
  },
  {
   "cell_type": "markdown",
   "metadata": {},
   "source": [
    "2. Czy nieruchomości o 2 piętrach mają większą (w oparciu o wartości mediany) liczbę łazienek niż nieruchomości o 3 piętrach?\n"
   ]
  },
  {
   "cell_type": "code",
   "execution_count": 12,
   "metadata": {},
   "outputs": [
    {
     "name": "stdout",
     "output_type": "stream",
     "text": [
      "nieruchomości o 3 piętrach mają większą liczbę łazienek niż nieruchomości o 2 pietrach\n"
     ]
    }
   ],
   "source": [
    "pietra_2 = df[df['floors']==2]\n",
    "pietra_3 = df[df['floors']==3]\n",
    "\n",
    "mediana_2_pieter = pietra_2['bathrooms'].median()\n",
    "mediana_3_pieter = pietra_3['bathrooms'].median()\n",
    "\n",
    "if mediana_2_pieter > mediana_3_pieter:\n",
    "    print(\"nieruchomości o 2 piętrach mają większą liczbę łazienek niż nieruchomości o 3 pietrach\")\n",
    "else:\n",
    "    print(\"nieruchomości o 3 piętrach mają większą liczbę łazienek niż nieruchomości o 2 pietrach\")"
   ]
  },
  {
   "cell_type": "markdown",
   "metadata": {
    "jupyter": {
     "source_hidden": true
    },
    "tags": []
   },
   "source": [
    "Odp:"
   ]
  },
  {
   "cell_type": "markdown",
   "metadata": {},
   "source": [
    "3. Jak wygląda wartość kwartyla 0.25 oraz 0.75 jakości wykończenia nieruchomości położonych na północy biorąc pod uwagę czy ma ona widok na wodę czy nie ma?"
   ]
  },
  {
   "cell_type": "code",
   "execution_count": 23,
   "metadata": {},
   "outputs": [
    {
     "name": "stdout",
     "output_type": "stream",
     "text": [
      "kwantyle 0.25 i 0.75 jakosci wykonczenia dla domow nad wodą to:  3.0 ,  4.0\n",
      "kwantyle 0.25 i 0.75 jakosci wykonczenia dla domow nie przy wodzie to:  3.0 ,  4.0\n"
     ]
    }
   ],
   "source": [
    "# Zaczynam pisac po angielsku bo mnie te kolumny w ramce juz zaczynaja mylic\n",
    "\n",
    "north = abs(max(df['lat'])+min(df['lat']))/2\n",
    "north_houses = df[df['lat']>=north]\n",
    "north_houses_water = domy_nad_woda[domy_nad_woda['lat']>=north]\n",
    "\n",
    "# no waterview\n",
    "q_25 = north_houses['condition'].quantile(0.25)\n",
    "q_75 = north_houses['condition'].quantile(0.75)\n",
    "\n",
    "# yes waterview\n",
    "q_25_w = north_houses_water['condition'].quantile(0.25)\n",
    "q_75_w = north_houses_water['condition'].quantile(0.75)\n",
    "\n",
    "print(\"kwantyle 0.25 i 0.75 jakosci wykonczenia dla domow nad wodą to: \",q_25_w,\", \",q_75_w)\n",
    "print(\"kwantyle 0.25 i 0.75 jakosci wykonczenia dla domow nie przy wodzie to: \",q_25,\", \",q_75)"
   ]
  },
  {
   "cell_type": "markdown",
   "metadata": {},
   "source": [
    "Odp:"
   ]
  },
  {
   "cell_type": "markdown",
   "metadata": {},
   "source": [
    "4. Pod którym kodem pocztowy jest położonych najwięcej nieruchomości i jaki jest rozstęp miedzykwartylowy dla ceny nieruchomości położonych pod tym adresem?"
   ]
  },
  {
   "cell_type": "code",
   "execution_count": 32,
   "metadata": {},
   "outputs": [
    {
     "name": "stdout",
     "output_type": "stream",
     "text": [
      "Najczestszy kod pocztowy to:  98103\n",
      "Szukany IQR to:  262875.0\n"
     ]
    }
   ],
   "source": [
    "most_frequent_zipcode = df['zipcode'].value_counts().idxmax()\n",
    "print(\"Najczestszy kod pocztowy to: \",most_frequent_zipcode)\n",
    "\n",
    "prices = df[df['zipcode'] == most_frequent_zipcode]['price']\n",
    "my_iqr = prices.quantile(0.75)-prices.quantile(0.25)\n",
    "print(\"Szukany IQR to: \",my_iqr)"
   ]
  },
  {
   "cell_type": "markdown",
   "metadata": {},
   "source": [
    "Odp:"
   ]
  },
  {
   "cell_type": "markdown",
   "metadata": {},
   "source": [
    "5. Ile procent nieruchomości ma wyższą średnią powierzchnię 15 najbliższych sąsiadów względem swojej powierzchni?"
   ]
  },
  {
   "cell_type": "code",
   "execution_count": null,
   "metadata": {},
   "outputs": [],
   "source": [
    "?????"
   ]
  },
  {
   "cell_type": "markdown",
   "metadata": {},
   "source": [
    "Odp:"
   ]
  },
  {
   "cell_type": "markdown",
   "metadata": {},
   "source": [
    " 6. O ile procent więcej jest nieruchomości leżcych na północy zachód niż  nieruchomości leżących na południowy wschód?"
   ]
  },
  {
   "cell_type": "code",
   "execution_count": 51,
   "metadata": {},
   "outputs": [
    {
     "name": "stdout",
     "output_type": "stream",
     "text": [
      "Tych nieruchomosci jest o 50.96 % więcej\n"
     ]
    }
   ],
   "source": [
    "middle_N_S = abs(max(df['lat'])+min(df['lat']))/2\n",
    "middle_W_E = abs(max(df['long'])+min(df['long']))/2\n",
    "\n",
    "all_houses = df.value_counts().sum()\n",
    "north_west = df[df['lat']>middle_N_S].value_counts().sum()\n",
    "south_east =  all_houses - north_west\n",
    "\n",
    "p1 = round(north_west/all_houses *100,2)\n",
    "p2 = round(south_east/all_houses *100,2)\n",
    "result = round(p1-p2,2)\n",
    "print(\"Tych nieruchomosci jest o\",result,\"% więcej\")"
   ]
  },
  {
   "cell_type": "markdown",
   "metadata": {},
   "source": [
    "Odp:"
   ]
  },
  {
   "cell_type": "markdown",
   "metadata": {},
   "source": [
    "# Zadanie 2"
   ]
  },
  {
   "cell_type": "markdown",
   "metadata": {},
   "source": [
    "Dla wybranej zmiennej ze zbioru danych z Zadania 1 narysuj:\n",
    "\n",
    "a) rozkład zmiennej jakościowej\n",
    "\n",
    "b) rozkład zmiennej ilościowej\n",
    "\n",
    "c) rozkład dwóch zmiennych (dowolna kombinacja jakościowej i ilościowej)"
   ]
  },
  {
   "cell_type": "markdown",
   "metadata": {},
   "source": [
    "a)"
   ]
  },
  {
   "cell_type": "code",
   "execution_count": 75,
   "metadata": {},
   "outputs": [
    {
     "data": {
      "text/plain": [
       "Text(0.5, 1.0, 'Najczęstsze oceny domów')"
      ]
     },
     "execution_count": 75,
     "metadata": {},
     "output_type": "execute_result"
    },
    {
     "data": {
      "image/png": "[encoded data removed]",
      "text/plain": [
       "<Figure size 432x288 with 1 Axes>"
      ]
     },
     "metadata": {
      "needs_background": "light"
     },
     "output_type": "display_data"
    }
   ],
   "source": [
    "import seaborn as sns\n",
    "sns.kdeplot(df['grade'])\n",
    "plt.title('Najczęstsze oceny domów')"
   ]
  },
  {
   "cell_type": "markdown",
   "metadata": {},
   "source": [
    "b)"
   ]
  },
  {
   "cell_type": "code",
   "execution_count": 68,
   "metadata": {},
   "outputs": [
    {
     "data": {
      "text/plain": [
       "Text(0.5, 1.0, 'Liczba łazienek, a zadowolenie/ ocena z domu')"
      ]
     },
     "execution_count": 68,
     "metadata": {},
     "output_type": "execute_result"
    },
    {
     "data": {
      "image/png": "[encoded data removed]",
      "text/plain": [
       "<Figure size 432x288 with 1 Axes>"
      ]
     },
     "metadata": {
      "needs_background": "light"
     },
     "output_type": "display_data"
    }
   ],
   "source": [
    "x = df['bathrooms']\n",
    "y = df['grade']\n",
    "\n",
    "plt.scatter(x,y)\n",
    "plt.xlabel(\"Liczba łazienek\")\n",
    "plt.ylabel(\"Ocena w skali 1-13\")\n",
    "plt.title(\"Liczba łazienek, a zadowolenie/ ocena z domu\")"
   ]
  },
  {
   "cell_type": "markdown",
   "metadata": {},
   "source": [
    "c)"
   ]
  },
  {
   "cell_type": "code",
   "execution_count": 101,
   "metadata": {},
   "outputs": [
    {
     "data": {
      "text/plain": [
       "Text(0, 0.5, 'Cena obiektu w skali 10*6')"
      ]
     },
     "execution_count": 101,
     "metadata": {},
     "output_type": "execute_result"
    },
    {
     "data": {
      "image/png": "[encoded data removed]",
      "text/plain": [
       "<Figure size 432x288 with 1 Axes>"
      ]
     },
     "metadata": {
      "needs_background": "light"
     },
     "output_type": "display_data"
    }
   ],
   "source": [
    "x = df['waterfront']\n",
    "y = df['price']\n",
    "\n",
    "data = [x, y]\n",
    "\n",
    "plt.boxplot(data)\n",
    "plt.title(\"Widok na wodę, a cena obiektu\")\n",
    "plt.xlabel(\"Obiekt nad wodą - 2, Obiekt nie nad wodą - 1\")\n",
    "plt.ylabel(\"Cena obiektu w skali 10*6\")"
   ]
  },
  {
   "cell_type": "code",
   "execution_count": null,
   "metadata": {},
   "outputs": [],
   "source": []
  }
 ],
 "metadata": {
  "kernelspec": {
   "display_name": "Python 3 (ipykernel)",
   "language": "python",
   "name": "python3"
  },
  "language_info": {
   "codemirror_mode": {
    "name": "ipython",
    "version": 3
   },
   "file_extension": ".py",
   "mimetype": "text/x-python",
   "name": "python",
   "nbconvert_exporter": "python",
   "pygments_lexer": "ipython3",
   "version": "3.9.7"
  }
 },
 "nbformat": 4,
 "nbformat_minor": 4
}
