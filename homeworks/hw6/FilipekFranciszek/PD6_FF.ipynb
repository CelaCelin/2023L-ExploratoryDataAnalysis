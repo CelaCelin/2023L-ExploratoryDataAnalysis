{
  "cells": [
    {
      "cell_type": "markdown",
      "metadata": {
        "id": "XiftxSmoxoC1"
      },
      "source": [
        "# Praca domowa 6"
      ]
    },
    {
      "cell_type": "markdown",
      "metadata": {
        "id": "KmgvFW0JxoC2"
      },
      "source": [
        "## Zadanie 1\n"
      ]
    },
    {
      "cell_type": "code",
      "execution_count": null,
      "metadata": {
        "id": "b_8T5tKtxoC3"
      },
      "outputs": [],
      "source": [
        "import pandas as pd\n",
        "import numpy as np\n",
        "import matplotlib.pyplot as plt\n",
        "\n",
        "df = pd.read_csv(\"house_data.csv\")"
      ]
    },
    {
      "cell_type": "markdown",
      "metadata": {
        "id": "Zj-cGUzkxoC4"
      },
      "source": [
        "1. Jaka jest średnia cena nieruchomości położonych nad wodą, których jakoś wykończenia jest równa lub większa od mediany jakości wykończenia?\n"
      ]
    },
    {
      "cell_type": "code",
      "execution_count": null,
      "metadata": {
        "colab": {
          "base_uri": "https://localhost:8080/"
        },
        "id": "99aVWZ0ZxoC4",
        "outputId": "d082940d-49c7-447f-dbb8-44be8fe7af94"
      },
      "outputs": [
        {
          "output_type": "execute_result",
          "data": {
            "text/plain": [
              "1662563.9254658385"
            ]
          },
          "metadata": {},
          "execution_count": 52
        }
      ],
      "source": [
        "pd.set_option(\"display.max.columns\", None)\n",
        "df.head()\n",
        "med = df['condition'].median()\n",
        "df_1 = df.loc[(df[\"waterfront\"] == 1) & (df[\"condition\"] >= med)]\n",
        "df_1['price'].mean()\n",
        "\n",
        "\n"
      ]
    },
    {
      "cell_type": "markdown",
      "metadata": {
        "id": "pOikczTCxoC4"
      },
      "source": [
        "Odp: 1662563.9254658385$\n"
      ]
    },
    {
      "cell_type": "markdown",
      "metadata": {
        "id": "JVweWB3FxoC4"
      },
      "source": [
        "2. Czy nieruchomości o 2 piętrach mają większą (w oparciu o wartości mediany) liczbę łazienek niż nieruchomości o 3 piętrach?\n"
      ]
    },
    {
      "cell_type": "code",
      "execution_count": null,
      "metadata": {
        "colab": {
          "base_uri": "https://localhost:8080/"
        },
        "id": "rFz-kQC0xoC5",
        "outputId": "089d24e0-d3d7-4633-acc6-d41ac1fd441e"
      },
      "outputs": [
        {
          "output_type": "execute_result",
          "data": {
            "text/plain": [
              "(2.5, 2.5)"
            ]
          },
          "metadata": {},
          "execution_count": 53
        }
      ],
      "source": [
        "df1 = df.loc[(df[\"floors\"] == 2)]\n",
        "a = df1[\"bathrooms\"].median()\n",
        "df2 = df.loc[(df[\"floors\"] == 3)]\n",
        "b = df2[\"bathrooms\"].median()\n",
        "a,b"
      ]
    },
    {
      "cell_type": "markdown",
      "metadata": {
        "id": "61ZlASSHxoC5"
      },
      "source": [
        "Odp: Nie, mediana liczby łazienek jest taka sama w obu przypadkach.\n"
      ]
    },
    {
      "cell_type": "markdown",
      "metadata": {
        "id": "QsDoYLsXxoC5"
      },
      "source": [
        "3. Jak wygląda wartość kwartyla 0.25 oraz 0.75 jakości wykończenia nieruchomości położonych na północy biorąc pod uwagę czy ma ona widok na wodę czy nie ma?"
      ]
    },
    {
      "cell_type": "code",
      "execution_count": null,
      "metadata": {
        "colab": {
          "base_uri": "https://localhost:8080/"
        },
        "id": "4FLRJu9OxoC5",
        "outputId": "f34f8d78-59a9-45cf-9aeb-b6872e6605fa"
      },
      "outputs": [
        {
          "output_type": "execute_result",
          "data": {
            "text/plain": [
              "(7.0, 8.0)"
            ]
          },
          "metadata": {},
          "execution_count": 85
        }
      ],
      "source": [
        "df.head()\n",
        "df3 = df.loc[(df[\"lat\"] > (df['lat'].min()+df['lat'].max())/2)]\n",
        "df_woda = df3.loc[(df3[\"waterfront\"] == 1)]\n",
        "df_brak = df3.loc[(df3[\"waterfront\"] == 0)]\n",
        "q1_woda = df_woda[\"grade\"].quantile(.25)\n",
        "q3_woda = df_woda[\"grade\"].quantile(.75)\n",
        "q1_brak = df_brak[\"grade\"].quantile(.25)\n",
        "q3_brak = df_brak[\"grade\"].quantile(.75)\n",
        "q1_woda,q3_woda\n",
        "q1_brak,q3_brak\n",
        "\n",
        "\n",
        "\n"
      ]
    },
    {
      "cell_type": "markdown",
      "metadata": {
        "id": "kcN_fBgFxoC5"
      },
      "source": [
        "Odp: Jeżeli ma widok na wode, to kwartyl 0.25 to 8, kwartyl 0.75 to 10.\n",
        "Dla bez widoku na wode, kwartyl 0.25 to 7, kwartyl 0.75 to 8."
      ]
    },
    {
      "cell_type": "markdown",
      "metadata": {
        "id": "ah5E1cDUxoC6"
      },
      "source": [
        "4. Pod którym kodem pocztowy jest położonych najwięcej nieruchomości i jaki jest rozstęp miedzykwartylowy dla ceny nieruchomości położonych pod tym adresem?"
      ]
    },
    {
      "cell_type": "code",
      "execution_count": null,
      "metadata": {
        "colab": {
          "base_uri": "https://localhost:8080/"
        },
        "id": "XEuyGJv8xoC6",
        "outputId": "0a5a0601-4333-4d94-f548-89baa92684e0"
      },
      "outputs": [
        {
          "output_type": "execute_result",
          "data": {
            "text/plain": [
              "262875.0"
            ]
          },
          "metadata": {},
          "execution_count": 70
        }
      ],
      "source": [
        "df.groupby(['zipcode'])['zipcode'].size().nlargest(1)\n",
        "df1 = df.loc[(df[\"zipcode\"] == 98103)]\n",
        "q1 = df1[\"price\"].quantile(0.25)\n",
        "q3 = df1[\"price\"].quantile(0.75)\n",
        "IQR = q3 - q1\n",
        "IQR\n"
      ]
    },
    {
      "cell_type": "markdown",
      "metadata": {
        "id": "vsyN5n6sxoC6"
      },
      "source": [
        "Odp: Najwięcej nieruchomości jest pod adresem 98103. Rozstep międzykwartylowy to 262875.0"
      ]
    },
    {
      "cell_type": "markdown",
      "metadata": {
        "id": "9ECKQ8_oxoC6"
      },
      "source": [
        "5. Ile procent nieruchomości ma wyższą średnią powierzchnię 15 najbliższych sąsiadów względem swojej powierzchni?"
      ]
    },
    {
      "cell_type": "code",
      "execution_count": null,
      "metadata": {
        "colab": {
          "base_uri": "https://localhost:8080/"
        },
        "id": "o96VQnYDxoC6",
        "outputId": "45c2b1eb-692f-47dc-e758-caed409de849"
      },
      "outputs": [
        {
          "output_type": "execute_result",
          "data": {
            "text/plain": [
              "39.51325591079443"
            ]
          },
          "metadata": {},
          "execution_count": 75
        }
      ],
      "source": [
        "n = df.shape[0]\n",
        "df1 = df.loc[(df[\"sqft_lot15\"] > df[\"sqft_lot\"])]\n",
        "k = df1.shape[0]\n",
        "100*k/n\n"
      ]
    },
    {
      "cell_type": "markdown",
      "metadata": {
        "id": "bU6_qyfkxoC6"
      },
      "source": [
        "Odp: 39.5% brałem pod uwagę powierzchnię całej nieruchomości."
      ]
    },
    {
      "cell_type": "markdown",
      "metadata": {
        "id": "PV1GP5YRxoC7"
      },
      "source": [
        " 6. O ile procent więcej jest nieruchomości leżcych na północy zachód niż  nieruchomości leżących na południowy wschód?"
      ]
    },
    {
      "cell_type": "code",
      "execution_count": null,
      "metadata": {
        "colab": {
          "base_uri": "https://localhost:8080/"
        },
        "id": "OUndwtx7xoC7",
        "outputId": "3b57962f-b181-411e-f6ea-d0362a5f9a40"
      },
      "outputs": [
        {
          "output_type": "execute_result",
          "data": {
            "text/plain": [
              "18343.529411764706"
            ]
          },
          "metadata": {},
          "execution_count": 89
        }
      ],
      "source": [
        "df1 = df.loc[(df[\"lat\"] > (df['lat'].min()+df['lat'].max())/2) & (df[\"long\"] < (df['long'].min()+df['long'].max())/2)]\n",
        "n1 = df1.shape[0]\n",
        "df2 = df.loc[(df[\"lat\"] < (df['lat'].min()+df['lat'].max())/2) & (df[\"long\"] > (df['long'].min()+df['long'].max())/2)]\n",
        "n2 = df2.shape[0]\n",
        "100*(n1-n2)/n2\n"
      ]
    },
    {
      "cell_type": "markdown",
      "metadata": {
        "id": "kNdPzlsExoC7"
      },
      "source": [
        "Odp: 18343.529411764706 %."
      ]
    },
    {
      "cell_type": "markdown",
      "metadata": {
        "id": "kEHwPgJnxoC7"
      },
      "source": [
        "# Zadanie 2"
      ]
    },
    {
      "cell_type": "markdown",
      "metadata": {
        "id": "RkZCtRfUxoC7"
      },
      "source": [
        "Dla wybranej zmiennej ze zbioru danych z Zadania 1 narysuj:\n",
        "\n",
        "a) rozkład zmiennej jakościowej\n",
        "\n",
        "b) rozkład zmiennej ilościowej\n",
        "\n",
        "c) rozkład dwóch zmiennych (dowolna kombinacja jakościowej i ilościowej)"
      ]
    },
    {
      "cell_type": "markdown",
      "metadata": {
        "id": "yq68fFIAxoC7"
      },
      "source": [
        "a)"
      ]
    },
    {
      "cell_type": "code",
      "execution_count": null,
      "metadata": {
        "vscode": {
          "languageId": "plaintext"
        },
        "colab": {
          "base_uri": "https://localhost:8080/",
          "height": 470
        },
        "id": "fzrs3WVnxoC8",
        "outputId": "086bb727-8788-4b11-ef0b-0411d66cdd58"
      },
      "outputs": [
        {
          "output_type": "execute_result",
          "data": {
            "text/plain": [
              "Text(0.5, 1.0, 'Ilość domów blisko oraz dalej od wody')"
            ]
          },
          "metadata": {},
          "execution_count": 107
        },
        {
          "output_type": "display_data",
          "data": {
            "text/plain": [
              "<Figure size 640x480 with 1 Axes>"
            ],
            "image/png": "[encoded data removed]"
          },
          "metadata": {}
        }
      ],
      "source": [
        "df1 = df.groupby(['waterfront'])['waterfront'].count().reset_index(name=\"count\")\n",
        "x = ['Nie przy wodzie','Przy wodzie']\n",
        "plt.bar(x, 'count',data = df1)\n",
        "plt.title(\"Ilość domów blisko oraz dalej od wody\")"
      ]
    },
    {
      "cell_type": "markdown",
      "metadata": {
        "id": "yDLLs8H_xoC8"
      },
      "source": [
        "b)"
      ]
    },
    {
      "cell_type": "code",
      "execution_count": null,
      "metadata": {
        "vscode": {
          "languageId": "plaintext"
        },
        "colab": {
          "base_uri": "https://localhost:8080/",
          "height": 469
        },
        "id": "ZE1CF_KcxoC8",
        "outputId": "43c0db42-2b96-4305-ac49-6814f78e8ff9"
      },
      "outputs": [
        {
          "output_type": "execute_result",
          "data": {
            "text/plain": [
              "Text(0.5, 1.0, 'Rozkład metrażu powierzchni mieszkalnej')"
            ]
          },
          "metadata": {},
          "execution_count": 109
        },
        {
          "output_type": "display_data",
          "data": {
            "text/plain": [
              "<Figure size 640x480 with 1 Axes>"
            ],
            "image/png": "[encoded data removed]"
          },
          "metadata": {}
        }
      ],
      "source": [
        "plt.hist(df[\"sqft_living\"])\n",
        "plt.title(\"Rozkład metrażu powierzchni mieszkalnej\")"
      ]
    },
    {
      "cell_type": "markdown",
      "metadata": {
        "id": "_kYeGf2yxoC8"
      },
      "source": [
        "c)"
      ]
    },
    {
      "cell_type": "code",
      "execution_count": null,
      "metadata": {
        "vscode": {
          "languageId": "plaintext"
        },
        "colab": {
          "base_uri": "https://localhost:8080/",
          "height": 470
        },
        "id": "RnEKLo_vxoC8",
        "outputId": "977e33cb-0f48-4ba9-b78b-c940c7c199e4"
      },
      "outputs": [
        {
          "output_type": "execute_result",
          "data": {
            "text/plain": [
              "Text(0.5, 1.0, 'Srednia cena mieszkań wybudowanych w danym roku')"
            ]
          },
          "metadata": {},
          "execution_count": 113
        },
        {
          "output_type": "display_data",
          "data": {
            "text/plain": [
              "<Figure size 640x480 with 1 Axes>"
            ],
            "image/png": "[encoded data removed]"
          },
          "metadata": {}
        }
      ],
      "source": [
        "df1 = df.groupby(['yr_built'])['price'].mean().reset_index(name=\"srednia\")\n",
        "plt.bar(\"yr_built\",\"srednia\",data = df1)\n",
        "plt.title(\"Srednia cena mieszkań wybudowanych w danym roku\")"
      ]
    }
  ],
  "metadata": {
    "kernelspec": {
      "display_name": "base",
      "language": "python",
      "name": "python3"
    },
    "language_info": {
      "name": "python",
      "version": "3.7.6"
    },
    "orig_nbformat": 4,
    "colab": {
      "provenance": []
    }
  },
  "nbformat": 4,
  "nbformat_minor": 0
}